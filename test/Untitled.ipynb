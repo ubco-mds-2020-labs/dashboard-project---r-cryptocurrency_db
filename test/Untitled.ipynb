{
 "cells": [
  {
   "cell_type": "code",
   "execution_count": 1,
   "metadata": {},
   "outputs": [],
   "source": [
    "import pandas as pd\n",
    "crypto_usd_df = pd.read_csv(\"/Volumes/UBC/Block5/551/Project_MDS/dashboard-project-cryptocurrency_db/data/raw_data/crypto_usd.csv\")"
   ]
  },
  {
   "cell_type": "code",
   "execution_count": 2,
   "metadata": {},
   "outputs": [],
   "source": [
    "usd_exchange_rate_df = pd.read_csv(\"/Volumes/UBC/Block5/551/Project_MDS/dashboard-project-cryptocurrency_db/data/raw_data/usd_exchange_rate.csv\")"
   ]
  },
  {
   "cell_type": "code",
   "execution_count": 7,
   "metadata": {},
   "outputs": [
    {
     "data": {
      "text/plain": [
       "{'bitcoin': 48474.8,\n",
       " 'dash': 207.24,\n",
       " 'bitcoin_cash': 496.34,\n",
       " 'bitconnect': 5.04,\n",
       " 'ethereum': 1564.77,\n",
       " 'iota': 1.31,\n",
       " 'litecoin': 181.92,\n",
       " 'monero': 201.39,\n",
       " 'nem': 0.75,\n",
       " 'neo': 37.43,\n",
       " 'numeraire': 39.57,\n",
       " 'omisego': 5.63,\n",
       " 'qtum': 6.33,\n",
       " 'ripple': 0.47,\n",
       " 'stratis': 0.92,\n",
       " 'waves': 9.88}"
      ]
     },
     "execution_count": 7,
     "metadata": {},
     "output_type": "execute_result"
    }
   ],
   "source": [
    "crypto_usd = crypto_usd_df.set_index('CRYPTOCURRENCY').T.to_dict('list')\n",
    "crypto_usd = {k:v[0] for k,v in crypto_usd.items()}\n",
    "crypto_usd"
   ]
  },
  {
   "cell_type": "code",
   "execution_count": 6,
   "metadata": {},
   "outputs": [
    {
     "data": {
      "text/plain": [
       "{'CAD': 1.2, 'INR': 75.1, 'AUD': 1.4, 'SGD': 1.5}"
      ]
     },
     "execution_count": 6,
     "metadata": {},
     "output_type": "execute_result"
    }
   ],
   "source": [
    "usd_exchange_rate = usd_exchange_rate_df.set_index('TO_CURRENCY').T.to_dict('list')\n",
    "usd_exchange_rate = {k:v[0] for k,v in usd_exchange_rate.items()}\n",
    "usd_exchange_rate"
   ]
  },
  {
   "cell_type": "code",
   "execution_count": 8,
   "metadata": {},
   "outputs": [
    {
     "ename": "SyntaxError",
     "evalue": "invalid syntax (<ipython-input-8-a4e4253d4390>, line 1)",
     "output_type": "error",
     "traceback": [
      "\u001b[0;36m  File \u001b[0;32m\"<ipython-input-8-a4e4253d4390>\"\u001b[0;36m, line \u001b[0;32m1\u001b[0m\n\u001b[0;31m    currencyCon <- function(x, from = \"USD\", to = \"EUR\"){\u001b[0m\n\u001b[0m                               ^\u001b[0m\n\u001b[0;31mSyntaxError\u001b[0m\u001b[0;31m:\u001b[0m invalid syntax\n"
     ]
    }
   ],
   "source": [
    "currencyCon <- function(x, from = \"USD\", to = \"EUR\"){\n",
    "  # assign values: 1 usd in each currency \n",
    "  values <- c(1.000000, 0.927985, 0.810100, 107.624500)\n",
    "  # names attribute \n",
    "  names(values) <- c(\"USD\", \"EUR\", \"GBP\", \"YEN\")\n",
    "  # calculate (convert from into USD, and divide to)\n",
    "  values[to] / (values[from] / x)\n",
    "}\n",
    "\n",
    "# Testing \n",
    "currencyCon(1, \"USD\", \"EUR\")\n",
    "currencyCon(1, \"EUR\", \"EUR\")\n",
    "currencyCon(1, \"GBP\", \"YEN\")"
   ]
  },
  {
   "cell_type": "code",
   "execution_count": null,
   "metadata": {},
   "outputs": [],
   "source": []
  }
 ],
 "metadata": {
  "kernelspec": {
   "display_name": "Python 3",
   "language": "python",
   "name": "python3"
  },
  "language_info": {
   "codemirror_mode": {
    "name": "ipython",
    "version": 3
   },
   "file_extension": ".py",
   "mimetype": "text/x-python",
   "name": "python",
   "nbconvert_exporter": "python",
   "pygments_lexer": "ipython3",
   "version": "3.8.5"
  }
 },
 "nbformat": 4,
 "nbformat_minor": 4
}
